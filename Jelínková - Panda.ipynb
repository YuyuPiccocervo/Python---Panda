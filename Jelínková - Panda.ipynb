{
 "cells": [
  {
   "cell_type": "markdown",
   "metadata": {
    "collapsed": true
   },
   "source": [
    "# Ailuropoda melanoleuca - analýza genomu\n",
    "\n",
    "## Panda velká\n",
    "\n",
    "### Panda velká je oficiálně všežravec. Moc ráda má bambus a při přežvykování se jí třesou uši.\n",
    "### Má 5 prstů a k tomu palec navíc.\n",
    "### Samice rodí dvě mláďata, ale stará se vždy jen o jedno.\n"
   ]
  },
  {
   "cell_type": "markdown",
   "metadata": {},
   "source": [
    "![panda](http://3w6kx9401skz1bup4i1gs9ne.wpengine.netdna-cdn.com/wp-content/uploads/2016/09/telegraph-1.jpg)"
   ]
  },
  {
   "cell_type": "markdown",
   "metadata": {},
   "source": [
    "### Zpracování dat před samotnou analýzou"
   ]
  },
  {
   "cell_type": "code",
   "execution_count": 51,
   "metadata": {
    "collapsed": true
   },
   "outputs": [],
   "source": [
    "import pandas as pd\n",
    "import numpy as np\n",
    "import matplotlib as plt\n",
    "import pylab as pl\n",
    "import re"
   ]
  },
  {
   "cell_type": "code",
   "execution_count": 52,
   "metadata": {
    "collapsed": true
   },
   "outputs": [],
   "source": [
    "genes=pd.read_table('genes.gtf', header=None, dtype={0:np.object})   \n",
    "transcripts=pd.read_table('trans.gtf', header=None, dtype={0:np.object}) "
   ]
  },
  {
   "cell_type": "code",
   "execution_count": 53,
   "metadata": {
    "collapsed": true
   },
   "outputs": [],
   "source": [
    "genes.columns = [\"seqname\", \"source\", \"feature\", \"start\", \"end\", \"score\", \"strand\", \"frame\", \"attribute\"]\n",
    "transcripts.columns = [\"seqname\", \"source\", \"feature\", \"start\", \"end\", \"score\", \"strand\", \"frame\", \"attribute\"]"
   ]
  },
  {
   "cell_type": "code",
   "execution_count": 54,
   "metadata": {
    "collapsed": false
   },
   "outputs": [
    {
     "data": {
      "text/plain": [
       "{'gene_biotype': 'processed_transcript',\n",
       " 'gene_id': 'ENSG00000241860',\n",
       " 'gene_name': 'RP11-34P13.13',\n",
       " 'transcript_biotype': 'antisense',\n",
       " 'transcript_id': 'ENST00000484859',\n",
       " 'transcript_name': 'RP11-34P13.13-004'}"
      ]
     },
     "execution_count": 54,
     "metadata": {},
     "output_type": "execute_result"
    }
   ],
   "source": [
    "def parse_attributes(attributes_str):\n",
    "    \"\"\"Načte obsah sloupce attribute jako `dict`.\n",
    "    \n",
    "    - Pozor, neporadí si se středníky v hodnotách a očekává uvozovky\n",
    "      kolem každé hodnoty.\n",
    "      \n",
    "      \n",
    "    Parametry:\n",
    "    \n",
    "    `attributes_str` - hodnota GTF sloupce attribute jako string\n",
    "    \"\"\"\n",
    "    ONLY_ATTRIBUTES = set([\"gene_id\", \n",
    "                          \"transcript_id\",\n",
    "                          \"gene_name\",\n",
    "                          \"gene_biotype\",\n",
    "                          \"transcript_name\",\n",
    "                          \"transcript_biotype\"])\n",
    "    \n",
    "    out = {}\n",
    "    \n",
    "    for pair in attributes_str.split(\";\"):\n",
    "        if pair.strip() == \"\":\n",
    "            continue\n",
    "        m = re.match(r\"^\\s*(.+) \\\"(.+)\\\"$\", pair)\n",
    "        \n",
    "        if m.group(1) in ONLY_ATTRIBUTES:\n",
    "            out[m.group(1)] = m.group(2)\n",
    "\n",
    "    return out\n",
    "\n",
    "\n",
    "s = \"\"\"gene_id \"ENSG00000241860\"; gene_version \"6\"; transcript_id \"ENST00000484859\"; transcript_version \"1\"; gene_name \"RP11-34P13.13\"; gene_source \"havana\"; gene_biotype \"processed_transcript\"; havana_gene \"OTTHUMG00000002480\"; havana_gene_version \"3\"; transcript_name \"RP11-34P13.13-004\"; transcript_source \"havana\"; transcript_biotype \"antisense\"; havana_transcript \"OTTHUMT00000007035\"; havana_transcript_version \"1\"; tag \"basic\"; transcript_support_level \"5\";\"\"\"\n",
    "parse_attributes(s)"
   ]
  },
  {
   "cell_type": "code",
   "execution_count": 55,
   "metadata": {
    "collapsed": false
   },
   "outputs": [],
   "source": [
    "def split_attribute_column(df):\n",
    "    \"\"\"Rozdělí sloupec `attribute` data frame GTF souboru do vlastních\n",
    "    sloupců.\n",
    "    \"\"\"\n",
    "    attributes_columns = df.attribute.apply(parse_attributes).apply(pd.Series)\n",
    "    return pd.concat([df.drop([\"attribute\"], axis=1),\n",
    "                      attributes_columns],\n",
    "                     axis=1)\n",
    "\n",
    "genesAttr = split_attribute_column(genes)\n",
    "transcriptsAttr = split_attribute_column(transcripts)"
   ]
  },
  {
   "cell_type": "code",
   "execution_count": 56,
   "metadata": {
    "collapsed": false
   },
   "outputs": [
    {
     "data": {
      "text/html": [
       "<div>\n",
       "<table border=\"1\" class=\"dataframe\">\n",
       "  <thead>\n",
       "    <tr style=\"text-align: right;\">\n",
       "      <th></th>\n",
       "      <th>seqname</th>\n",
       "      <th>source</th>\n",
       "      <th>feature</th>\n",
       "      <th>start</th>\n",
       "      <th>end</th>\n",
       "      <th>score</th>\n",
       "      <th>strand</th>\n",
       "      <th>frame</th>\n",
       "      <th>gene_biotype</th>\n",
       "      <th>gene_id</th>\n",
       "      <th>gene_name</th>\n",
       "    </tr>\n",
       "  </thead>\n",
       "  <tbody>\n",
       "    <tr>\n",
       "      <th>0</th>\n",
       "      <td>GL192338.1</td>\n",
       "      <td>ensembl</td>\n",
       "      <td>gene</td>\n",
       "      <td>74838</td>\n",
       "      <td>213168</td>\n",
       "      <td>.</td>\n",
       "      <td>+</td>\n",
       "      <td>.</td>\n",
       "      <td>protein_coding</td>\n",
       "      <td>ENSAMEG00000016232</td>\n",
       "      <td>CHD9</td>\n",
       "    </tr>\n",
       "    <tr>\n",
       "      <th>1</th>\n",
       "      <td>GL192338.1</td>\n",
       "      <td>ensembl</td>\n",
       "      <td>gene</td>\n",
       "      <td>239478</td>\n",
       "      <td>289331</td>\n",
       "      <td>.</td>\n",
       "      <td>+</td>\n",
       "      <td>.</td>\n",
       "      <td>protein_coding</td>\n",
       "      <td>ENSAMEG00000016277</td>\n",
       "      <td>RBL2</td>\n",
       "    </tr>\n",
       "    <tr>\n",
       "      <th>2</th>\n",
       "      <td>GL192338.1</td>\n",
       "      <td>ensembl</td>\n",
       "      <td>gene</td>\n",
       "      <td>291367</td>\n",
       "      <td>297093</td>\n",
       "      <td>.</td>\n",
       "      <td>-</td>\n",
       "      <td>.</td>\n",
       "      <td>protein_coding</td>\n",
       "      <td>ENSAMEG00000016345</td>\n",
       "      <td>AKTIP</td>\n",
       "    </tr>\n",
       "    <tr>\n",
       "      <th>3</th>\n",
       "      <td>GL192338.1</td>\n",
       "      <td>ensembl</td>\n",
       "      <td>gene</td>\n",
       "      <td>376932</td>\n",
       "      <td>463296</td>\n",
       "      <td>.</td>\n",
       "      <td>-</td>\n",
       "      <td>.</td>\n",
       "      <td>protein_coding</td>\n",
       "      <td>ENSAMEG00000016363</td>\n",
       "      <td>RPGRIP1L</td>\n",
       "    </tr>\n",
       "    <tr>\n",
       "      <th>4</th>\n",
       "      <td>GL192338.1</td>\n",
       "      <td>ensembl</td>\n",
       "      <td>gene</td>\n",
       "      <td>466443</td>\n",
       "      <td>839125</td>\n",
       "      <td>.</td>\n",
       "      <td>+</td>\n",
       "      <td>.</td>\n",
       "      <td>protein_coding</td>\n",
       "      <td>ENSAMEG00000016388</td>\n",
       "      <td>FTO</td>\n",
       "    </tr>\n",
       "  </tbody>\n",
       "</table>\n",
       "</div>"
      ],
      "text/plain": [
       "      seqname   source feature   start     end score strand frame  \\\n",
       "0  GL192338.1  ensembl    gene   74838  213168     .      +     .   \n",
       "1  GL192338.1  ensembl    gene  239478  289331     .      +     .   \n",
       "2  GL192338.1  ensembl    gene  291367  297093     .      -     .   \n",
       "3  GL192338.1  ensembl    gene  376932  463296     .      -     .   \n",
       "4  GL192338.1  ensembl    gene  466443  839125     .      +     .   \n",
       "\n",
       "     gene_biotype             gene_id gene_name  \n",
       "0  protein_coding  ENSAMEG00000016232      CHD9  \n",
       "1  protein_coding  ENSAMEG00000016277      RBL2  \n",
       "2  protein_coding  ENSAMEG00000016345     AKTIP  \n",
       "3  protein_coding  ENSAMEG00000016363  RPGRIP1L  \n",
       "4  protein_coding  ENSAMEG00000016388       FTO  "
      ]
     },
     "execution_count": 56,
     "metadata": {},
     "output_type": "execute_result"
    }
   ],
   "source": [
    "genesAttr.head()"
   ]
  },
  {
   "cell_type": "code",
   "execution_count": 57,
   "metadata": {
    "collapsed": false,
    "scrolled": true
   },
   "outputs": [
    {
     "data": {
      "text/html": [
       "<div>\n",
       "<table border=\"1\" class=\"dataframe\">\n",
       "  <thead>\n",
       "    <tr style=\"text-align: right;\">\n",
       "      <th></th>\n",
       "      <th>seqname</th>\n",
       "      <th>source</th>\n",
       "      <th>feature</th>\n",
       "      <th>start</th>\n",
       "      <th>end</th>\n",
       "      <th>score</th>\n",
       "      <th>strand</th>\n",
       "      <th>frame</th>\n",
       "      <th>gene_biotype</th>\n",
       "      <th>gene_id</th>\n",
       "      <th>gene_name</th>\n",
       "      <th>transcript_biotype</th>\n",
       "      <th>transcript_id</th>\n",
       "      <th>transcript_name</th>\n",
       "    </tr>\n",
       "  </thead>\n",
       "  <tbody>\n",
       "    <tr>\n",
       "      <th>0</th>\n",
       "      <td>GL192338.1</td>\n",
       "      <td>ensembl</td>\n",
       "      <td>transcript</td>\n",
       "      <td>74838</td>\n",
       "      <td>213168</td>\n",
       "      <td>.</td>\n",
       "      <td>+</td>\n",
       "      <td>.</td>\n",
       "      <td>protein_coding</td>\n",
       "      <td>ENSAMEG00000016232</td>\n",
       "      <td>CHD9</td>\n",
       "      <td>protein_coding</td>\n",
       "      <td>ENSAMET00000017883</td>\n",
       "      <td>CHD9-201</td>\n",
       "    </tr>\n",
       "    <tr>\n",
       "      <th>1</th>\n",
       "      <td>GL192338.1</td>\n",
       "      <td>ensembl</td>\n",
       "      <td>transcript</td>\n",
       "      <td>239478</td>\n",
       "      <td>289331</td>\n",
       "      <td>.</td>\n",
       "      <td>+</td>\n",
       "      <td>.</td>\n",
       "      <td>protein_coding</td>\n",
       "      <td>ENSAMEG00000016277</td>\n",
       "      <td>RBL2</td>\n",
       "      <td>protein_coding</td>\n",
       "      <td>ENSAMET00000017960</td>\n",
       "      <td>RBL2-201</td>\n",
       "    </tr>\n",
       "    <tr>\n",
       "      <th>2</th>\n",
       "      <td>GL192338.1</td>\n",
       "      <td>ensembl</td>\n",
       "      <td>transcript</td>\n",
       "      <td>291367</td>\n",
       "      <td>297093</td>\n",
       "      <td>.</td>\n",
       "      <td>-</td>\n",
       "      <td>.</td>\n",
       "      <td>protein_coding</td>\n",
       "      <td>ENSAMEG00000016345</td>\n",
       "      <td>AKTIP</td>\n",
       "      <td>protein_coding</td>\n",
       "      <td>ENSAMET00000017981</td>\n",
       "      <td>AKTIP-201</td>\n",
       "    </tr>\n",
       "    <tr>\n",
       "      <th>3</th>\n",
       "      <td>GL192338.1</td>\n",
       "      <td>ensembl</td>\n",
       "      <td>transcript</td>\n",
       "      <td>376932</td>\n",
       "      <td>463296</td>\n",
       "      <td>.</td>\n",
       "      <td>-</td>\n",
       "      <td>.</td>\n",
       "      <td>protein_coding</td>\n",
       "      <td>ENSAMEG00000016363</td>\n",
       "      <td>RPGRIP1L</td>\n",
       "      <td>protein_coding</td>\n",
       "      <td>ENSAMET00000018009</td>\n",
       "      <td>RPGRIP1L-201</td>\n",
       "    </tr>\n",
       "    <tr>\n",
       "      <th>4</th>\n",
       "      <td>GL192338.1</td>\n",
       "      <td>ensembl</td>\n",
       "      <td>transcript</td>\n",
       "      <td>466443</td>\n",
       "      <td>839125</td>\n",
       "      <td>.</td>\n",
       "      <td>+</td>\n",
       "      <td>.</td>\n",
       "      <td>protein_coding</td>\n",
       "      <td>ENSAMEG00000016388</td>\n",
       "      <td>FTO</td>\n",
       "      <td>protein_coding</td>\n",
       "      <td>ENSAMET00000018031</td>\n",
       "      <td>FTO-201</td>\n",
       "    </tr>\n",
       "  </tbody>\n",
       "</table>\n",
       "</div>"
      ],
      "text/plain": [
       "      seqname   source     feature   start     end score strand frame  \\\n",
       "0  GL192338.1  ensembl  transcript   74838  213168     .      +     .   \n",
       "1  GL192338.1  ensembl  transcript  239478  289331     .      +     .   \n",
       "2  GL192338.1  ensembl  transcript  291367  297093     .      -     .   \n",
       "3  GL192338.1  ensembl  transcript  376932  463296     .      -     .   \n",
       "4  GL192338.1  ensembl  transcript  466443  839125     .      +     .   \n",
       "\n",
       "     gene_biotype             gene_id gene_name transcript_biotype  \\\n",
       "0  protein_coding  ENSAMEG00000016232      CHD9     protein_coding   \n",
       "1  protein_coding  ENSAMEG00000016277      RBL2     protein_coding   \n",
       "2  protein_coding  ENSAMEG00000016345     AKTIP     protein_coding   \n",
       "3  protein_coding  ENSAMEG00000016363  RPGRIP1L     protein_coding   \n",
       "4  protein_coding  ENSAMEG00000016388       FTO     protein_coding   \n",
       "\n",
       "        transcript_id transcript_name  \n",
       "0  ENSAMET00000017883        CHD9-201  \n",
       "1  ENSAMET00000017960        RBL2-201  \n",
       "2  ENSAMET00000017981       AKTIP-201  \n",
       "3  ENSAMET00000018009    RPGRIP1L-201  \n",
       "4  ENSAMET00000018031         FTO-201  "
      ]
     },
     "execution_count": 57,
     "metadata": {},
     "output_type": "execute_result"
    }
   ],
   "source": [
    "transcriptsAttr.head()"
   ]
  },
  {
   "cell_type": "code",
   "execution_count": 58,
   "metadata": {
    "collapsed": true
   },
   "outputs": [],
   "source": [
    "%matplotlib inline"
   ]
  },
  {
   "cell_type": "markdown",
   "metadata": {},
   "source": [
    "### Přidání sloupce length"
   ]
  },
  {
   "cell_type": "code",
   "execution_count": 59,
   "metadata": {
    "collapsed": false
   },
   "outputs": [
    {
     "data": {
      "text/html": [
       "<div>\n",
       "<table border=\"1\" class=\"dataframe\">\n",
       "  <thead>\n",
       "    <tr style=\"text-align: right;\">\n",
       "      <th></th>\n",
       "      <th>seqname</th>\n",
       "      <th>source</th>\n",
       "      <th>feature</th>\n",
       "      <th>start</th>\n",
       "      <th>end</th>\n",
       "      <th>score</th>\n",
       "      <th>strand</th>\n",
       "      <th>frame</th>\n",
       "      <th>gene_biotype</th>\n",
       "      <th>gene_id</th>\n",
       "      <th>gene_name</th>\n",
       "      <th>length</th>\n",
       "    </tr>\n",
       "  </thead>\n",
       "  <tbody>\n",
       "    <tr>\n",
       "      <th>0</th>\n",
       "      <td>GL192338.1</td>\n",
       "      <td>ensembl</td>\n",
       "      <td>gene</td>\n",
       "      <td>74838</td>\n",
       "      <td>213168</td>\n",
       "      <td>.</td>\n",
       "      <td>+</td>\n",
       "      <td>.</td>\n",
       "      <td>protein_coding</td>\n",
       "      <td>ENSAMEG00000016232</td>\n",
       "      <td>CHD9</td>\n",
       "      <td>138330</td>\n",
       "    </tr>\n",
       "    <tr>\n",
       "      <th>1</th>\n",
       "      <td>GL192338.1</td>\n",
       "      <td>ensembl</td>\n",
       "      <td>gene</td>\n",
       "      <td>239478</td>\n",
       "      <td>289331</td>\n",
       "      <td>.</td>\n",
       "      <td>+</td>\n",
       "      <td>.</td>\n",
       "      <td>protein_coding</td>\n",
       "      <td>ENSAMEG00000016277</td>\n",
       "      <td>RBL2</td>\n",
       "      <td>49853</td>\n",
       "    </tr>\n",
       "    <tr>\n",
       "      <th>2</th>\n",
       "      <td>GL192338.1</td>\n",
       "      <td>ensembl</td>\n",
       "      <td>gene</td>\n",
       "      <td>291367</td>\n",
       "      <td>297093</td>\n",
       "      <td>.</td>\n",
       "      <td>-</td>\n",
       "      <td>.</td>\n",
       "      <td>protein_coding</td>\n",
       "      <td>ENSAMEG00000016345</td>\n",
       "      <td>AKTIP</td>\n",
       "      <td>5726</td>\n",
       "    </tr>\n",
       "    <tr>\n",
       "      <th>3</th>\n",
       "      <td>GL192338.1</td>\n",
       "      <td>ensembl</td>\n",
       "      <td>gene</td>\n",
       "      <td>376932</td>\n",
       "      <td>463296</td>\n",
       "      <td>.</td>\n",
       "      <td>-</td>\n",
       "      <td>.</td>\n",
       "      <td>protein_coding</td>\n",
       "      <td>ENSAMEG00000016363</td>\n",
       "      <td>RPGRIP1L</td>\n",
       "      <td>86364</td>\n",
       "    </tr>\n",
       "    <tr>\n",
       "      <th>4</th>\n",
       "      <td>GL192338.1</td>\n",
       "      <td>ensembl</td>\n",
       "      <td>gene</td>\n",
       "      <td>466443</td>\n",
       "      <td>839125</td>\n",
       "      <td>.</td>\n",
       "      <td>+</td>\n",
       "      <td>.</td>\n",
       "      <td>protein_coding</td>\n",
       "      <td>ENSAMEG00000016388</td>\n",
       "      <td>FTO</td>\n",
       "      <td>372682</td>\n",
       "    </tr>\n",
       "  </tbody>\n",
       "</table>\n",
       "</div>"
      ],
      "text/plain": [
       "      seqname   source feature   start     end score strand frame  \\\n",
       "0  GL192338.1  ensembl    gene   74838  213168     .      +     .   \n",
       "1  GL192338.1  ensembl    gene  239478  289331     .      +     .   \n",
       "2  GL192338.1  ensembl    gene  291367  297093     .      -     .   \n",
       "3  GL192338.1  ensembl    gene  376932  463296     .      -     .   \n",
       "4  GL192338.1  ensembl    gene  466443  839125     .      +     .   \n",
       "\n",
       "     gene_biotype             gene_id gene_name  length  \n",
       "0  protein_coding  ENSAMEG00000016232      CHD9  138330  \n",
       "1  protein_coding  ENSAMEG00000016277      RBL2   49853  \n",
       "2  protein_coding  ENSAMEG00000016345     AKTIP    5726  \n",
       "3  protein_coding  ENSAMEG00000016363  RPGRIP1L   86364  \n",
       "4  protein_coding  ENSAMEG00000016388       FTO  372682  "
      ]
     },
     "execution_count": 59,
     "metadata": {},
     "output_type": "execute_result"
    }
   ],
   "source": [
    "genesAttr[\"length\"] = genesAttr[\"end\"] - genesAttr[\"start\"]\n",
    "genesAttr.head()"
   ]
  },
  {
   "cell_type": "code",
   "execution_count": 60,
   "metadata": {
    "collapsed": false,
    "scrolled": true
   },
   "outputs": [
    {
     "data": {
      "text/html": [
       "<div>\n",
       "<table border=\"1\" class=\"dataframe\">\n",
       "  <thead>\n",
       "    <tr style=\"text-align: right;\">\n",
       "      <th></th>\n",
       "      <th>seqname</th>\n",
       "      <th>source</th>\n",
       "      <th>feature</th>\n",
       "      <th>start</th>\n",
       "      <th>end</th>\n",
       "      <th>score</th>\n",
       "      <th>strand</th>\n",
       "      <th>frame</th>\n",
       "      <th>gene_biotype</th>\n",
       "      <th>gene_id</th>\n",
       "      <th>gene_name</th>\n",
       "      <th>transcript_biotype</th>\n",
       "      <th>transcript_id</th>\n",
       "      <th>transcript_name</th>\n",
       "      <th>length</th>\n",
       "    </tr>\n",
       "  </thead>\n",
       "  <tbody>\n",
       "    <tr>\n",
       "      <th>0</th>\n",
       "      <td>GL192338.1</td>\n",
       "      <td>ensembl</td>\n",
       "      <td>transcript</td>\n",
       "      <td>74838</td>\n",
       "      <td>213168</td>\n",
       "      <td>.</td>\n",
       "      <td>+</td>\n",
       "      <td>.</td>\n",
       "      <td>protein_coding</td>\n",
       "      <td>ENSAMEG00000016232</td>\n",
       "      <td>CHD9</td>\n",
       "      <td>protein_coding</td>\n",
       "      <td>ENSAMET00000017883</td>\n",
       "      <td>CHD9-201</td>\n",
       "      <td>138330</td>\n",
       "    </tr>\n",
       "    <tr>\n",
       "      <th>1</th>\n",
       "      <td>GL192338.1</td>\n",
       "      <td>ensembl</td>\n",
       "      <td>transcript</td>\n",
       "      <td>239478</td>\n",
       "      <td>289331</td>\n",
       "      <td>.</td>\n",
       "      <td>+</td>\n",
       "      <td>.</td>\n",
       "      <td>protein_coding</td>\n",
       "      <td>ENSAMEG00000016277</td>\n",
       "      <td>RBL2</td>\n",
       "      <td>protein_coding</td>\n",
       "      <td>ENSAMET00000017960</td>\n",
       "      <td>RBL2-201</td>\n",
       "      <td>49853</td>\n",
       "    </tr>\n",
       "    <tr>\n",
       "      <th>2</th>\n",
       "      <td>GL192338.1</td>\n",
       "      <td>ensembl</td>\n",
       "      <td>transcript</td>\n",
       "      <td>291367</td>\n",
       "      <td>297093</td>\n",
       "      <td>.</td>\n",
       "      <td>-</td>\n",
       "      <td>.</td>\n",
       "      <td>protein_coding</td>\n",
       "      <td>ENSAMEG00000016345</td>\n",
       "      <td>AKTIP</td>\n",
       "      <td>protein_coding</td>\n",
       "      <td>ENSAMET00000017981</td>\n",
       "      <td>AKTIP-201</td>\n",
       "      <td>5726</td>\n",
       "    </tr>\n",
       "    <tr>\n",
       "      <th>3</th>\n",
       "      <td>GL192338.1</td>\n",
       "      <td>ensembl</td>\n",
       "      <td>transcript</td>\n",
       "      <td>376932</td>\n",
       "      <td>463296</td>\n",
       "      <td>.</td>\n",
       "      <td>-</td>\n",
       "      <td>.</td>\n",
       "      <td>protein_coding</td>\n",
       "      <td>ENSAMEG00000016363</td>\n",
       "      <td>RPGRIP1L</td>\n",
       "      <td>protein_coding</td>\n",
       "      <td>ENSAMET00000018009</td>\n",
       "      <td>RPGRIP1L-201</td>\n",
       "      <td>86364</td>\n",
       "    </tr>\n",
       "    <tr>\n",
       "      <th>4</th>\n",
       "      <td>GL192338.1</td>\n",
       "      <td>ensembl</td>\n",
       "      <td>transcript</td>\n",
       "      <td>466443</td>\n",
       "      <td>839125</td>\n",
       "      <td>.</td>\n",
       "      <td>+</td>\n",
       "      <td>.</td>\n",
       "      <td>protein_coding</td>\n",
       "      <td>ENSAMEG00000016388</td>\n",
       "      <td>FTO</td>\n",
       "      <td>protein_coding</td>\n",
       "      <td>ENSAMET00000018031</td>\n",
       "      <td>FTO-201</td>\n",
       "      <td>372682</td>\n",
       "    </tr>\n",
       "  </tbody>\n",
       "</table>\n",
       "</div>"
      ],
      "text/plain": [
       "      seqname   source     feature   start     end score strand frame  \\\n",
       "0  GL192338.1  ensembl  transcript   74838  213168     .      +     .   \n",
       "1  GL192338.1  ensembl  transcript  239478  289331     .      +     .   \n",
       "2  GL192338.1  ensembl  transcript  291367  297093     .      -     .   \n",
       "3  GL192338.1  ensembl  transcript  376932  463296     .      -     .   \n",
       "4  GL192338.1  ensembl  transcript  466443  839125     .      +     .   \n",
       "\n",
       "     gene_biotype             gene_id gene_name transcript_biotype  \\\n",
       "0  protein_coding  ENSAMEG00000016232      CHD9     protein_coding   \n",
       "1  protein_coding  ENSAMEG00000016277      RBL2     protein_coding   \n",
       "2  protein_coding  ENSAMEG00000016345     AKTIP     protein_coding   \n",
       "3  protein_coding  ENSAMEG00000016363  RPGRIP1L     protein_coding   \n",
       "4  protein_coding  ENSAMEG00000016388       FTO     protein_coding   \n",
       "\n",
       "        transcript_id transcript_name  length  \n",
       "0  ENSAMET00000017883        CHD9-201  138330  \n",
       "1  ENSAMET00000017960        RBL2-201   49853  \n",
       "2  ENSAMET00000017981       AKTIP-201    5726  \n",
       "3  ENSAMET00000018009    RPGRIP1L-201   86364  \n",
       "4  ENSAMET00000018031         FTO-201  372682  "
      ]
     },
     "execution_count": 60,
     "metadata": {},
     "output_type": "execute_result"
    }
   ],
   "source": [
    "transcriptsAttr[\"length\"] = transcriptsAttr[\"end\"] - transcriptsAttr[\"start\"]\n",
    "transcriptsAttr.head()"
   ]
  },
  {
   "cell_type": "markdown",
   "metadata": {},
   "source": [
    "#### Počet chromozomů"
   ]
  },
  {
   "cell_type": "code",
   "execution_count": 61,
   "metadata": {
    "collapsed": false
   },
   "outputs": [
    {
     "data": {
      "text/plain": [
       "2896"
      ]
     },
     "execution_count": 61,
     "metadata": {},
     "output_type": "execute_result"
    }
   ],
   "source": [
    "sum(genesAttr[\"seqname\"].value_counts() > 0)"
   ]
  },
  {
   "cell_type": "code",
   "execution_count": 62,
   "metadata": {
    "collapsed": false
   },
   "outputs": [
    {
     "data": {
      "text/plain": [
       "array(['GL192338.1', 'GL192339.1', 'GL192340.1', ..., 'GL255160.1',\n",
       "       'GL265186.1', 'GL272367.1'], dtype=object)"
      ]
     },
     "execution_count": 62,
     "metadata": {},
     "output_type": "execute_result"
    }
   ],
   "source": [
    "genesAttr[\"seqname\"].unique()\n"
   ]
  },
  {
   "cell_type": "markdown",
   "metadata": {},
   "source": [
    "#### Počet genů"
   ]
  },
  {
   "cell_type": "code",
   "execution_count": 63,
   "metadata": {
    "collapsed": false
   },
   "outputs": [
    {
     "data": {
      "text/plain": [
       "23262"
      ]
     },
     "execution_count": 63,
     "metadata": {},
     "output_type": "execute_result"
    }
   ],
   "source": [
    "sum(genesAttr[\"gene_id\"].value_counts() > 0)"
   ]
  },
  {
   "cell_type": "markdown",
   "metadata": {},
   "source": [
    "#### Počet transkriptů"
   ]
  },
  {
   "cell_type": "code",
   "execution_count": 64,
   "metadata": {
    "collapsed": false
   },
   "outputs": [
    {
     "data": {
      "text/plain": [
       "25055"
      ]
     },
     "execution_count": 64,
     "metadata": {},
     "output_type": "execute_result"
    }
   ],
   "source": [
    "sum(transcriptsAttr[\"transcript_id\"].value_counts() > 0)"
   ]
  },
  {
   "cell_type": "markdown",
   "metadata": {},
   "source": [
    "#### Počet genů s více transkripty"
   ]
  },
  {
   "cell_type": "code",
   "execution_count": 65,
   "metadata": {
    "collapsed": false
   },
   "outputs": [
    {
     "data": {
      "text/plain": [
       "1605"
      ]
     },
     "execution_count": 65,
     "metadata": {},
     "output_type": "execute_result"
    }
   ],
   "source": [
    "sum(transcriptsAttr[\"gene_id\"].value_counts() > 1)"
   ]
  },
  {
   "cell_type": "markdown",
   "metadata": {},
   "source": [
    "#### Počty genů na vláknech "
   ]
  },
  {
   "cell_type": "code",
   "execution_count": 66,
   "metadata": {
    "collapsed": false,
    "scrolled": true
   },
   "outputs": [
    {
     "data": {
      "text/plain": [
       "-    11707\n",
       "+    11555\n",
       "Name: strand, dtype: int64"
      ]
     },
     "execution_count": 66,
     "metadata": {},
     "output_type": "execute_result"
    }
   ],
   "source": [
    "genesAttr[\"strand\"].value_counts()"
   ]
  },
  {
   "cell_type": "markdown",
   "metadata": {},
   "source": [
    "#### Počty genů na chromozomech"
   ]
  },
  {
   "cell_type": "code",
   "execution_count": 67,
   "metadata": {
    "collapsed": false
   },
   "outputs": [
    {
     "data": {
      "text/plain": [
       "<matplotlib.text.Text at 0x9e2c7b8>"
      ]
     },
     "execution_count": 67,
     "metadata": {},
     "output_type": "execute_result"
    },
    {
     "data": {
      "image/png": "[encoded data removed]",
      "text/plain": [
       "<matplotlib.figure.Figure at 0x9e2ca58>"
      ]
     },
     "metadata": {},
     "output_type": "display_data"
    }
   ],
   "source": [
    "genesAttr[\"seqname\"].value_counts().hist(bins=20)\n",
    "pl.suptitle(\"Pocty genu na chromozomech\")"
   ]
  },
  {
   "cell_type": "code",
   "execution_count": 68,
   "metadata": {
    "collapsed": false,
    "scrolled": true
   },
   "outputs": [
    {
     "data": {
      "text/plain": [
       "GL192348.1    167\n",
       "GL192567.1    131\n",
       "GL192357.1    127\n",
       "GL192492.1    121\n",
       "GL192537.1    119\n",
       "GL192339.1    112\n",
       "GL192356.1    105\n",
       "GL192350.1     97\n",
       "GL192354.1     94\n",
       "GL192457.1     91\n",
       "Name: seqname, dtype: int64"
      ]
     },
     "execution_count": 68,
     "metadata": {},
     "output_type": "execute_result"
    }
   ],
   "source": [
    "genesAttr[\"seqname\"].value_counts().head(10)"
   ]
  },
  {
   "cell_type": "markdown",
   "metadata": {},
   "source": [
    "#### Počty transkriptů genů"
   ]
  },
  {
   "cell_type": "code",
   "execution_count": 69,
   "metadata": {
    "collapsed": false,
    "scrolled": true
   },
   "outputs": [
    {
     "data": {
      "text/plain": [
       "<matplotlib.text.Text at 0xa167b70>"
      ]
     },
     "execution_count": 69,
     "metadata": {},
     "output_type": "execute_result"
    },
    {
     "data": {
      "image/png": "[encoded data removed]",
      "text/plain": [
       "<matplotlib.figure.Figure at 0xa286b38>"
      ]
     },
     "metadata": {},
     "output_type": "display_data"
    }
   ],
   "source": [
    "transcriptsAttr[\"gene_id\"].value_counts().hist(bins=20)\n",
    "pl.suptitle(\"Pocty transkriptu genu\")"
   ]
  },
  {
   "cell_type": "code",
   "execution_count": 70,
   "metadata": {
    "collapsed": false,
    "scrolled": true
   },
   "outputs": [
    {
     "data": {
      "text/plain": [
       "ENSAMEG00000007611    9\n",
       "ENSAMEG00000001766    7\n",
       "ENSAMEG00000005352    5\n",
       "ENSAMEG00000008170    5\n",
       "ENSAMEG00000011637    5\n",
       "ENSAMEG00000013097    5\n",
       "ENSAMEG00000018398    5\n",
       "ENSAMEG00000007413    4\n",
       "ENSAMEG00000007344    4\n",
       "ENSAMEG00000004903    4\n",
       "Name: gene_id, dtype: int64"
      ]
     },
     "execution_count": 70,
     "metadata": {},
     "output_type": "execute_result"
    }
   ],
   "source": [
    "transcriptsAttr[\"gene_id\"].value_counts().head(10)"
   ]
  },
  {
   "cell_type": "markdown",
   "metadata": {},
   "source": [
    "#### Distribuce délky genů"
   ]
  },
  {
   "cell_type": "code",
   "execution_count": 71,
   "metadata": {
    "collapsed": false,
    "scrolled": true
   },
   "outputs": [
    {
     "data": {
      "image/png": "[encoded data removed]",
      "text/plain": [
       "<matplotlib.figure.Figure at 0xaa155f8>"
      ]
     },
     "metadata": {},
     "output_type": "display_data"
    }
   ],
   "source": [
    "genesAttr[\"length\"].hist(bins=1000)\n",
    "pl.suptitle(\"Distribuce delky genu\")\n",
    "pl.xscale('log') "
   ]
  },
  {
   "cell_type": "markdown",
   "metadata": {},
   "source": [
    "#### Biotypy"
   ]
  },
  {
   "cell_type": "code",
   "execution_count": 72,
   "metadata": {
    "collapsed": false,
    "scrolled": true
   },
   "outputs": [
    {
     "data": {
      "text/plain": [
       "protein_coding          19343\n",
       "snRNA                    1211\n",
       "pseudogene                769\n",
       "miRNA                     743\n",
       "snoRNA                    659\n",
       "misc_RNA                  358\n",
       "rRNA                      146\n",
       "Mt_tRNA                    22\n",
       "processed_pseudogene        9\n",
       "Mt_rRNA                     2\n",
       "Name: gene_biotype, dtype: int64"
      ]
     },
     "execution_count": 72,
     "metadata": {},
     "output_type": "execute_result"
    }
   ],
   "source": [
    "genesAttr[\"gene_biotype\"].value_counts()"
   ]
  },
  {
   "cell_type": "markdown",
   "metadata": {},
   "source": [
    "### Vztah délky genů a počtu transkriptů"
   ]
  },
  {
   "cell_type": "markdown",
   "metadata": {},
   "source": [
    "###### Přidání sloupce s počtem transkriptů"
   ]
  },
  {
   "cell_type": "code",
   "execution_count": 73,
   "metadata": {
    "collapsed": false
   },
   "outputs": [],
   "source": [
    "gcs = pd.Series (transcriptsAttr[\"gene_id\"].sort_values().value_counts())\n",
    "gcs = gcs.rename (\"number_of_transcripts\")\n",
    "gcdf = gcs.to_frame ()\n"
   ]
  },
  {
   "cell_type": "code",
   "execution_count": 74,
   "metadata": {
    "collapsed": false
   },
   "outputs": [],
   "source": [
    "results = pd.merge (genesAttr, gcdf, left_on='gene_id',right_index=True)\n"
   ]
  },
  {
   "cell_type": "code",
   "execution_count": 75,
   "metadata": {
    "collapsed": false,
    "scrolled": true
   },
   "outputs": [
    {
     "data": {
      "text/html": [
       "<div>\n",
       "<table border=\"1\" class=\"dataframe\">\n",
       "  <thead>\n",
       "    <tr style=\"text-align: right;\">\n",
       "      <th></th>\n",
       "      <th>seqname</th>\n",
       "      <th>source</th>\n",
       "      <th>feature</th>\n",
       "      <th>start</th>\n",
       "      <th>end</th>\n",
       "      <th>score</th>\n",
       "      <th>strand</th>\n",
       "      <th>frame</th>\n",
       "      <th>gene_biotype</th>\n",
       "      <th>gene_id</th>\n",
       "      <th>gene_name</th>\n",
       "      <th>length</th>\n",
       "      <th>number_of_transcripts</th>\n",
       "    </tr>\n",
       "  </thead>\n",
       "  <tbody>\n",
       "    <tr>\n",
       "      <th>20203</th>\n",
       "      <td>GL194059.1</td>\n",
       "      <td>ensembl</td>\n",
       "      <td>gene</td>\n",
       "      <td>11634</td>\n",
       "      <td>322441</td>\n",
       "      <td>.</td>\n",
       "      <td>+</td>\n",
       "      <td>.</td>\n",
       "      <td>protein_coding</td>\n",
       "      <td>ENSAMEG00000013097</td>\n",
       "      <td>NaN</td>\n",
       "      <td>310807</td>\n",
       "      <td>5</td>\n",
       "    </tr>\n",
       "    <tr>\n",
       "      <th>15166</th>\n",
       "      <td>GL193207.1</td>\n",
       "      <td>ensembl</td>\n",
       "      <td>gene</td>\n",
       "      <td>485841</td>\n",
       "      <td>581053</td>\n",
       "      <td>.</td>\n",
       "      <td>-</td>\n",
       "      <td>.</td>\n",
       "      <td>protein_coding</td>\n",
       "      <td>ENSAMEG00000008170</td>\n",
       "      <td>KRT10</td>\n",
       "      <td>95212</td>\n",
       "      <td>5</td>\n",
       "    </tr>\n",
       "    <tr>\n",
       "      <th>11682</th>\n",
       "      <td>GL192891.1</td>\n",
       "      <td>ensembl</td>\n",
       "      <td>gene</td>\n",
       "      <td>34110</td>\n",
       "      <td>157851</td>\n",
       "      <td>.</td>\n",
       "      <td>+</td>\n",
       "      <td>.</td>\n",
       "      <td>protein_coding</td>\n",
       "      <td>ENSAMEG00000005352</td>\n",
       "      <td>NaN</td>\n",
       "      <td>123741</td>\n",
       "      <td>5</td>\n",
       "    </tr>\n",
       "    <tr>\n",
       "      <th>9395</th>\n",
       "      <td>GL192731.1</td>\n",
       "      <td>ensembl</td>\n",
       "      <td>gene</td>\n",
       "      <td>58767</td>\n",
       "      <td>1488348</td>\n",
       "      <td>.</td>\n",
       "      <td>-</td>\n",
       "      <td>.</td>\n",
       "      <td>protein_coding</td>\n",
       "      <td>ENSAMEG00000001766</td>\n",
       "      <td>DUSP8</td>\n",
       "      <td>1429581</td>\n",
       "      <td>7</td>\n",
       "    </tr>\n",
       "    <tr>\n",
       "      <th>14974</th>\n",
       "      <td>GL193188.1</td>\n",
       "      <td>ensembl</td>\n",
       "      <td>gene</td>\n",
       "      <td>478741</td>\n",
       "      <td>678149</td>\n",
       "      <td>.</td>\n",
       "      <td>+</td>\n",
       "      <td>.</td>\n",
       "      <td>protein_coding</td>\n",
       "      <td>ENSAMEG00000007611</td>\n",
       "      <td>NaN</td>\n",
       "      <td>199408</td>\n",
       "      <td>9</td>\n",
       "    </tr>\n",
       "  </tbody>\n",
       "</table>\n",
       "</div>"
      ],
      "text/plain": [
       "          seqname   source feature   start      end score strand frame  \\\n",
       "20203  GL194059.1  ensembl    gene   11634   322441     .      +     .   \n",
       "15166  GL193207.1  ensembl    gene  485841   581053     .      -     .   \n",
       "11682  GL192891.1  ensembl    gene   34110   157851     .      +     .   \n",
       "9395   GL192731.1  ensembl    gene   58767  1488348     .      -     .   \n",
       "14974  GL193188.1  ensembl    gene  478741   678149     .      +     .   \n",
       "\n",
       "         gene_biotype             gene_id gene_name   length  \\\n",
       "20203  protein_coding  ENSAMEG00000013097       NaN   310807   \n",
       "15166  protein_coding  ENSAMEG00000008170     KRT10    95212   \n",
       "11682  protein_coding  ENSAMEG00000005352       NaN   123741   \n",
       "9395   protein_coding  ENSAMEG00000001766     DUSP8  1429581   \n",
       "14974  protein_coding  ENSAMEG00000007611       NaN   199408   \n",
       "\n",
       "       number_of_transcripts  \n",
       "20203                      5  \n",
       "15166                      5  \n",
       "11682                      5  \n",
       "9395                       7  \n",
       "14974                      9  "
      ]
     },
     "execution_count": 75,
     "metadata": {},
     "output_type": "execute_result"
    }
   ],
   "source": [
    "results.sort_values ('number_of_transcripts').tail()"
   ]
  },
  {
   "cell_type": "markdown",
   "metadata": {},
   "source": [
    "###### Graf vztahu délky genu a počtu transkriptů"
   ]
  },
  {
   "cell_type": "code",
   "execution_count": 76,
   "metadata": {
    "collapsed": false
   },
   "outputs": [
    {
     "data": {
      "text/plain": [
       "<matplotlib.text.Text at 0x97c2518>"
      ]
     },
     "execution_count": 76,
     "metadata": {},
     "output_type": "execute_result"
    },
    {
     "data": {
      "image/png": "[encoded data removed]",
      "text/plain": [
       "<matplotlib.figure.Figure at 0x183b7048>"
      ]
     },
     "metadata": {},
     "output_type": "display_data"
    }
   ],
   "source": [
    "results.boxplot(column=\"length\", by=\"number_of_transcripts\")\n",
    "pl.suptitle(\"Vztah mezi delkou genu a poctem transkriptu\")"
   ]
  },
  {
   "cell_type": "markdown",
   "metadata": {},
   "source": [
    "###### Korelační koeficient"
   ]
  },
  {
   "cell_type": "code",
   "execution_count": 77,
   "metadata": {
    "collapsed": false,
    "scrolled": true
   },
   "outputs": [
    {
     "data": {
      "text/html": [
       "<div>\n",
       "<table border=\"1\" class=\"dataframe\">\n",
       "  <thead>\n",
       "    <tr style=\"text-align: right;\">\n",
       "      <th></th>\n",
       "      <th>length</th>\n",
       "      <th>number_of_transcripts</th>\n",
       "    </tr>\n",
       "  </thead>\n",
       "  <tbody>\n",
       "    <tr>\n",
       "      <th>length</th>\n",
       "      <td>1.000000</td>\n",
       "      <td>0.339236</td>\n",
       "    </tr>\n",
       "    <tr>\n",
       "      <th>number_of_transcripts</th>\n",
       "      <td>0.339236</td>\n",
       "      <td>1.000000</td>\n",
       "    </tr>\n",
       "  </tbody>\n",
       "</table>\n",
       "</div>"
      ],
      "text/plain": [
       "                         length  number_of_transcripts\n",
       "length                 1.000000               0.339236\n",
       "number_of_transcripts  0.339236               1.000000"
      ]
     },
     "execution_count": 77,
     "metadata": {},
     "output_type": "execute_result"
    }
   ],
   "source": [
    "results[[\"length\", \"number_of_transcripts\"]].corr(method='pearson', min_periods=1)"
   ]
  },
  {
   "cell_type": "markdown",
   "metadata": {},
   "source": [
    "![panda](http://files.vividscreen.info/soft/4244d6509e281d4bedb855c253c8f223/Kung-Fu-Panda-3-HD-wide-i.jpg)"
   ]
  },
  {
   "cell_type": "code",
   "execution_count": null,
   "metadata": {
    "collapsed": true
   },
   "outputs": [],
   "source": []
  }
 ],
 "metadata": {
  "anaconda-cloud": {},
  "kernelspec": {
   "display_name": "Python [conda root]",
   "language": "python",
   "name": "conda-root-py"
  },
  "language_info": {
   "codemirror_mode": {
    "name": "ipython",
    "version": 3
   },
   "file_extension": ".py",
   "mimetype": "text/x-python",
   "name": "python",
   "nbconvert_exporter": "python",
   "pygments_lexer": "ipython3",
   "version": "3.5.2"
  }
 },
 "nbformat": 4,
 "nbformat_minor": 1
}
